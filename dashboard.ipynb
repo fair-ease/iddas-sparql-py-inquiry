{
 "cells": [
  {
   "cell_type": "markdown",
   "metadata": {},
   "source": [
    "# [Search the IDDAS](https://fair-ease-iddas.maris.nl/)\n",
    "\n",
    "The Interdisciplinary Data Discovery & Access Service (IDDAS) is a service that allows you to search for data across multiple disciplines. "
   ]
  },
  {
   "cell_type": "markdown",
   "metadata": {},
   "source": [
    "## setup\n",
    "below functions are needed to setup the sparql templaten and querying support"
   ]
  },
  {
   "cell_type": "code",
   "execution_count": 1,
   "metadata": {},
   "outputs": [],
   "source": [
    "from enable_sparql import execute_to_df, generate_sparql"
   ]
  },
  {
   "cell_type": "markdown",
   "metadata": {},
   "source": [
    "Options: \n",
    "- **searchTerm**: filter by search term (Default: null)\n",
    "- **startDate**: filter by start date (Default: null)\n",
    "- **endDate**: filter by end date (Default: null)\n",
    "- **parameter**: filter by parameter (Default: null)\n",
    "- **catalog**: filter by catalog (Default: null)\n",
    "- **mediaType**: filter by media type (Default: null)\n",
    "- **limit**: limit to apply to the query (Default: 10)\n",
    "- **offset**: offset to apply to the query (Default: 0)"
   ]
  },
  {
   "cell_type": "code",
   "execution_count": null,
   "metadata": {},
   "outputs": [],
   "source": [
    "# Count the number of triples in the dataset\n",
    "execute_to_df(\"iddas.sparql\", count=True)"
   ]
  },
  {
   "cell_type": "code",
   "execution_count": null,
   "metadata": {},
   "outputs": [],
   "source": [
    "# Get the 3 triples starting at the 10th triple in the dataset\n",
    "execute_to_df(\"iddas.sparql\", limit=3, offset=10)"
   ]
  },
  {
   "cell_type": "code",
   "execution_count": null,
   "metadata": {},
   "outputs": [],
   "source": [
    "# Get all the triples in the dataset with a filter search term of \"Salinity\"\n",
    "execute_to_df(\"iddas.sparql\", searchTerm=\"Salinity\")"
   ]
  },
  {
   "cell_type": "code",
   "execution_count": 4,
   "metadata": {},
   "outputs": [
    {
     "name": "stdout",
     "output_type": "stream",
     "text": [
      "2018-01-01\n"
     ]
    },
    {
     "data": {
      "text/html": [
       "<div>\n",
       "<style scoped>\n",
       "    .dataframe tbody tr th:only-of-type {\n",
       "        vertical-align: middle;\n",
       "    }\n",
       "\n",
       "    .dataframe tbody tr th {\n",
       "        vertical-align: top;\n",
       "    }\n",
       "\n",
       "    .dataframe thead th {\n",
       "        text-align: right;\n",
       "    }\n",
       "</style>\n",
       "<table border=\"1\" class=\"dataframe\">\n",
       "  <thead>\n",
       "    <tr style=\"text-align: right;\">\n",
       "      <th></th>\n",
       "      <th>title</th>\n",
       "      <th>mediaType</th>\n",
       "      <th>dataset</th>\n",
       "      <th>description</th>\n",
       "      <th>bbox</th>\n",
       "      <th>cleanCatalog</th>\n",
       "    </tr>\n",
       "  </thead>\n",
       "  <tbody>\n",
       "    <tr>\n",
       "      <th>0</th>\n",
       "      <td>Contaminant and isotopic data in European hake...</td>\n",
       "      <td>https://www.iana.org/assignments/media-types/a...</td>\n",
       "      <td>http://data.blue-cloud.wip/search/dcat/eurobis...</td>\n",
       "      <td>This dataset gathers isotopic ratios (carbon a...</td>\n",
       "      <td>POLYGON ((-1.5299999713898 43.650020599365, -1...</td>\n",
       "      <td>http://data.blue-cloud.wip/search/dcat/eurobis</td>\n",
       "    </tr>\n",
       "    <tr>\n",
       "      <th>1</th>\n",
       "      <td>NOx, European air quality data for 2018, (inte...</td>\n",
       "      <td>NaN</td>\n",
       "      <td>https://essi-lab.eu/dab/fair-ease/dataset/c513...</td>\n",
       "      <td>The data set provides concentrations for the a...</td>\n",
       "      <td>POLYGON((\\n-25.0 34.0, 45.0 34.0, 45.0 72.0, -...</td>\n",
       "      <td>https://essi-lab.eu/dab/fair-ease/catalog/UUID...</td>\n",
       "    </tr>\n",
       "    <tr>\n",
       "      <th>2</th>\n",
       "      <td>Annual wrack biomass of the northern Portugal ...</td>\n",
       "      <td>https://www.iana.org/assignments/media-types/a...</td>\n",
       "      <td>http://data.blue-cloud.wip/search/dcat/eurobis...</td>\n",
       "      <td>Wrack accumulations are a source of nutrients ...</td>\n",
       "      <td>POLYGON ((-8.8658409118652 40.931949615479, -8...</td>\n",
       "      <td>http://data.blue-cloud.wip/search/dcat/eurobis</td>\n",
       "    </tr>\n",
       "    <tr>\n",
       "      <th>3</th>\n",
       "      <td>Marine Recorder Snapshot extract of surveys en...</td>\n",
       "      <td>https://www.iana.org/assignments/media-types/a...</td>\n",
       "      <td>http://data.blue-cloud.wip/search/dcat/eurobis...</td>\n",
       "      <td>This dataset consists of surveys entered by Su...</td>\n",
       "      <td>POLYGON ((-0.91500449180603 50.732921600342, 0...</td>\n",
       "      <td>http://data.blue-cloud.wip/search/dcat/eurobis</td>\n",
       "    </tr>\n",
       "    <tr>\n",
       "      <th>4</th>\n",
       "      <td>NOx emissions in European shipping areas in 20...</td>\n",
       "      <td>NaN</td>\n",
       "      <td>https://essi-lab.eu/dab/fair-ease/dataset/f26c...</td>\n",
       "      <td>This metadata refers to the map showing the NO...</td>\n",
       "      <td>POLYGON((\\n-43.05 20.025, 46.95 20.025, 46.95 ...</td>\n",
       "      <td>https://essi-lab.eu/dab/fair-ease/catalog/UUID...</td>\n",
       "    </tr>\n",
       "  </tbody>\n",
       "</table>\n",
       "</div>"
      ],
      "text/plain": [
       "                                               title  \\\n",
       "0  Contaminant and isotopic data in European hake...   \n",
       "1  NOx, European air quality data for 2018, (inte...   \n",
       "2  Annual wrack biomass of the northern Portugal ...   \n",
       "3  Marine Recorder Snapshot extract of surveys en...   \n",
       "4  NOx emissions in European shipping areas in 20...   \n",
       "\n",
       "                                           mediaType  \\\n",
       "0  https://www.iana.org/assignments/media-types/a...   \n",
       "1                                                NaN   \n",
       "2  https://www.iana.org/assignments/media-types/a...   \n",
       "3  https://www.iana.org/assignments/media-types/a...   \n",
       "4                                                NaN   \n",
       "\n",
       "                                             dataset  \\\n",
       "0  http://data.blue-cloud.wip/search/dcat/eurobis...   \n",
       "1  https://essi-lab.eu/dab/fair-ease/dataset/c513...   \n",
       "2  http://data.blue-cloud.wip/search/dcat/eurobis...   \n",
       "3  http://data.blue-cloud.wip/search/dcat/eurobis...   \n",
       "4  https://essi-lab.eu/dab/fair-ease/dataset/f26c...   \n",
       "\n",
       "                                         description  \\\n",
       "0  This dataset gathers isotopic ratios (carbon a...   \n",
       "1  The data set provides concentrations for the a...   \n",
       "2  Wrack accumulations are a source of nutrients ...   \n",
       "3  This dataset consists of surveys entered by Su...   \n",
       "4  This metadata refers to the map showing the NO...   \n",
       "\n",
       "                                                bbox  \\\n",
       "0  POLYGON ((-1.5299999713898 43.650020599365, -1...   \n",
       "1  POLYGON((\\n-25.0 34.0, 45.0 34.0, 45.0 72.0, -...   \n",
       "2  POLYGON ((-8.8658409118652 40.931949615479, -8...   \n",
       "3  POLYGON ((-0.91500449180603 50.732921600342, 0...   \n",
       "4  POLYGON((\\n-43.05 20.025, 46.95 20.025, 46.95 ...   \n",
       "\n",
       "                                        cleanCatalog  \n",
       "0     http://data.blue-cloud.wip/search/dcat/eurobis  \n",
       "1  https://essi-lab.eu/dab/fair-ease/catalog/UUID...  \n",
       "2     http://data.blue-cloud.wip/search/dcat/eurobis  \n",
       "3     http://data.blue-cloud.wip/search/dcat/eurobis  \n",
       "4  https://essi-lab.eu/dab/fair-ease/catalog/UUID...  "
      ]
     },
     "execution_count": 4,
     "metadata": {},
     "output_type": "execute_result"
    }
   ],
   "source": [
    "# Get 5 triples in the dataset with a filter a startDate of \"2018-01-01\" and endDate of \"2020-01-01\"\n",
    "import datetime\n",
    "start_date = datetime.date(2018, 1, 1)\n",
    "end_date = datetime.date(2020, 1, 1)\n",
    "execute_to_df(\"iddas.sparql\", limit=5, startDate=start_date, endDate=end_date)"
   ]
  },
  {
   "cell_type": "code",
   "execution_count": null,
   "metadata": {},
   "outputs": [],
   "source": [
    "# Get 5 triples in the dataset with a filter a parameter of \"pCO2\" and catalog of \"http://data.blue-cloud.wip/search/dcat/icos\"\n",
    "execute_to_df(\"iddas.sparql\", limit=5, parameter=\"pCO2\", catalog=\"http://data.blue-cloud.wip/search/dcat/icos\")"
   ]
  }
 ],
 "metadata": {
  "kernelspec": {
   "display_name": "Python 3",
   "language": "python",
   "name": "python3"
  },
  "language_info": {
   "codemirror_mode": {
    "name": "ipython",
    "version": 3
   },
   "file_extension": ".py",
   "mimetype": "text/x-python",
   "name": "python",
   "nbconvert_exporter": "python",
   "pygments_lexer": "ipython3",
   "version": "3.12.4"
  }
 },
 "nbformat": 4,
 "nbformat_minor": 2
}
